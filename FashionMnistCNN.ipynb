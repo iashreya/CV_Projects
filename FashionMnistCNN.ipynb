{
  "nbformat": 4,
  "nbformat_minor": 0,
  "metadata": {
    "colab": {
      "name": "Fashion_mnist_ann.ipynb",
      "version": "0.3.2",
      "provenance": []
    },
    "kernelspec": {
      "name": "python3",
      "display_name": "Python 3"
    },
    "accelerator": "GPU"
  },
  "cells": [
    {
      "cell_type": "markdown",
      "metadata": {
        "id": "DR4eGEDduO_9",
        "colab_type": "text"
      },
      "source": [
        "# Classification of fashion items based on images"
      ]
    },
    {
      "cell_type": "code",
      "metadata": {
        "id": "fBVlDdHnt8sl",
        "colab_type": "code",
        "colab": {}
      },
      "source": [
        "import matplotlib.pyplot as plt\n",
        "import random\n",
        "import keras\n",
        "from keras.datasets import fashion_mnist\n",
        "from keras.models import Sequential\n",
        "from keras.layers import Dense, Dropout, Conv2D, Flatten\n",
        "from sklearn.metrics import classification_report"
      ],
      "execution_count": 0,
      "outputs": []
    },
    {
      "cell_type": "code",
      "metadata": {
        "id": "M9m0Bd-puD6p",
        "colab_type": "code",
        "colab": {}
      },
      "source": [
        "(x_train, y_train), (x_test, y_test) = fashion_mnist.load_data()"
      ],
      "execution_count": 0,
      "outputs": []
    },
    {
      "cell_type": "markdown",
      "metadata": {
        "id": "aMMhWqGCua6v",
        "colab_type": "text"
      },
      "source": [
        "## Analyzing the dataset"
      ]
    },
    {
      "cell_type": "code",
      "metadata": {
        "id": "xxw9WG1xuLOI",
        "colab_type": "code",
        "colab": {
          "base_uri": "https://localhost:8080/",
          "height": 51
        },
        "outputId": "60a2b460-a7e7-4bcb-8cde-57c10dc8d263"
      },
      "source": [
        "print(\"Length of training set = \", len(x_train))\n",
        "print(\"Length of test set = \", len(x_test))"
      ],
      "execution_count": 134,
      "outputs": [
        {
          "output_type": "stream",
          "text": [
            "Length of training set =  60000\n",
            "Length of test set =  10000\n"
          ],
          "name": "stdout"
        }
      ]
    },
    {
      "cell_type": "markdown",
      "metadata": {
        "id": "QhUNEwi8vE4z",
        "colab_type": "text"
      },
      "source": [
        "**The dataset consists of images with their labels indicating the type of fashion item**<br>\n",
        ">\n",
        ">These are the following labels alongwith their description : <br>\n",
        ">\n",
        ">**Label\tDescription**<br>\n",
        ">0\tT-shirt/top<br>\n",
        ">1\tTrouser<br>\n",
        ">2\tPullover<br>\n",
        ">3\tDress<br>\n",
        ">4\tCoat<br>\n",
        ">5\tSandal<br>\n",
        ">6\tShirt<br>\n",
        ">7\tSneaker<br>\n",
        ">8\tBag<br>\n",
        ">9\tAnkle boot<br>"
      ]
    },
    {
      "cell_type": "markdown",
      "metadata": {
        "id": "cjvLSvIUwiyC",
        "colab_type": "text"
      },
      "source": [
        "**Now, let's have a look at one of the images to get a better idea of our dataset**"
      ]
    },
    {
      "cell_type": "code",
      "metadata": {
        "id": "EFB52tq0uo_2",
        "colab_type": "code",
        "colab": {
          "base_uri": "https://localhost:8080/",
          "height": 177
        },
        "outputId": "68608960-f6d3-4824-ebd3-0e3f2f8bbcc2"
      },
      "source": [
        "f, ax = plt.subplots(1, figsize=(2,2))\n",
        "ax.imshow(x_train[5], cmap=\"Greens\")\n",
        "print(\"Label = \", y_train[5])"
      ],
      "execution_count": 135,
      "outputs": [
        {
          "output_type": "stream",
          "text": [
            "Label =  2\n"
          ],
          "name": "stdout"
        },
        {
          "output_type": "display_data",
          "data": {
            "image/png": "[encoded data removed]",
            "text/plain": [
              "<Figure size 144x144 with 1 Axes>"
            ]
          },
          "metadata": {
            "tags": []
          }
        }
      ]
    },
    {
      "cell_type": "markdown",
      "metadata": {
        "id": "zXFrnvh_yrDU",
        "colab_type": "text"
      },
      "source": [
        "## Preparing the data"
      ]
    },
    {
      "cell_type": "markdown",
      "metadata": {
        "id": "cG6b1kedxAeR",
        "colab_type": "text"
      },
      "source": [
        "*The above was an image of Ankle Boot and thus labled as 9*"
      ]
    },
    {
      "cell_type": "code",
      "metadata": {
        "id": "h3Kw2S4X0NXB",
        "colab_type": "code",
        "colab": {}
      },
      "source": [
        "BATCH_SIZE = 128\n",
        "NUM_CLASSES = 10\n",
        "EPOCHS = 5"
      ],
      "execution_count": 0,
      "outputs": []
    },
    {
      "cell_type": "code",
      "metadata": {
        "id": "_6iZKEeKutr2",
        "colab_type": "code",
        "colab": {}
      },
      "source": [
        "x_train = x_train.reshape(60000, 28, 28, 1)\n",
        "x_test = x_test.reshape(10000, 28, 28, 1)\n",
        "x_train = x_train.astype('float32')\n",
        "x_test = x_test.astype('float32')"
      ],
      "execution_count": 0,
      "outputs": []
    },
    {
      "cell_type": "code",
      "metadata": {
        "id": "8OVMxrexz0yW",
        "colab_type": "code",
        "colab": {}
      },
      "source": [
        "x_train /= 255\n",
        "x_test /= 255"
      ],
      "execution_count": 0,
      "outputs": []
    },
    {
      "cell_type": "code",
      "metadata": {
        "id": "D9bPtBS4z3lV",
        "colab_type": "code",
        "colab": {}
      },
      "source": [
        "y_train = keras.utils.to_categorical(y_train, NUM_CLASSES)\n",
        "y_test = keras.utils.to_categorical(y_test, NUM_CLASSES)"
      ],
      "execution_count": 0,
      "outputs": []
    },
    {
      "cell_type": "code",
      "metadata": {
        "id": "-9Wvr6j90aIN",
        "colab_type": "code",
        "colab": {}
      },
      "source": [
        "model = Sequential()\n",
        "model.add(Conv2D(64, kernel_size=3, activation='relu', input_shape=(28,28,1)))\n",
        "model.add(Conv2D(32, kernel_size=3, activation='relu'))\n",
        "model.add(Flatten())\n",
        "model.add(Dense(10, activation='softmax'))"
      ],
      "execution_count": 0,
      "outputs": []
    },
    {
      "cell_type": "code",
      "metadata": {
        "id": "HkrDKFe70xxk",
        "colab_type": "code",
        "colab": {}
      },
      "source": [
        "model.compile(optimizer='adam', loss='categorical_crossentropy', metrics=['accuracy'])"
      ],
      "execution_count": 0,
      "outputs": []
    },
    {
      "cell_type": "code",
      "metadata": {
        "id": "k4YuW_KL03dd",
        "colab_type": "code",
        "colab": {
          "base_uri": "https://localhost:8080/",
          "height": 272
        },
        "outputId": "167916a9-c402-4d8d-8583-52155321cad7"
      },
      "source": [
        "model.summary()"
      ],
      "execution_count": 142,
      "outputs": [
        {
          "output_type": "stream",
          "text": [
            "_________________________________________________________________\n",
            "Layer (type)                 Output Shape              Param #   \n",
            "=================================================================\n",
            "conv2d_5 (Conv2D)            (None, 26, 26, 64)        640       \n",
            "_________________________________________________________________\n",
            "conv2d_6 (Conv2D)            (None, 24, 24, 32)        18464     \n",
            "_________________________________________________________________\n",
            "flatten_3 (Flatten)          (None, 18432)             0         \n",
            "_________________________________________________________________\n",
            "dense_21 (Dense)             (None, 10)                184330    \n",
            "=================================================================\n",
            "Total params: 203,434\n",
            "Trainable params: 203,434\n",
            "Non-trainable params: 0\n",
            "_________________________________________________________________\n"
          ],
          "name": "stdout"
        }
      ]
    },
    {
      "cell_type": "code",
      "metadata": {
        "id": "eUDJ_UJn048_",
        "colab_type": "code",
        "colab": {
          "base_uri": "https://localhost:8080/",
          "height": 221
        },
        "outputId": "11e01b69-f298-4135-8396-c2bea79ad250"
      },
      "source": [
        "model.fit(x_train, y_train, validation_data=(x_test, y_test), epochs=EPOCHS, batch_size=BATCH_SIZE)"
      ],
      "execution_count": 143,
      "outputs": [
        {
          "output_type": "stream",
          "text": [
            "Train on 60000 samples, validate on 10000 samples\n",
            "Epoch 1/5\n",
            "60000/60000 [==============================] - 8s 130us/step - loss: 0.4579 - acc: 0.8379 - val_loss: 0.3725 - val_acc: 0.8701\n",
            "Epoch 2/5\n",
            "60000/60000 [==============================] - 7s 117us/step - loss: 0.3111 - acc: 0.8901 - val_loss: 0.3195 - val_acc: 0.8843\n",
            "Epoch 3/5\n",
            "60000/60000 [==============================] - 7s 116us/step - loss: 0.2677 - acc: 0.9027 - val_loss: 0.3073 - val_acc: 0.8904\n",
            "Epoch 4/5\n",
            "60000/60000 [==============================] - 7s 117us/step - loss: 0.2347 - acc: 0.9165 - val_loss: 0.2747 - val_acc: 0.9019\n",
            "Epoch 5/5\n",
            "60000/60000 [==============================] - 7s 117us/step - loss: 0.2075 - acc: 0.9250 - val_loss: 0.2647 - val_acc: 0.9057\n"
          ],
          "name": "stdout"
        },
        {
          "output_type": "execute_result",
          "data": {
            "text/plain": [
              "<keras.callbacks.History at 0x7f2bbc59b5c0>"
            ]
          },
          "metadata": {
            "tags": []
          },
          "execution_count": 143
        }
      ]
    },
    {
      "cell_type": "markdown",
      "metadata": {
        "id": "BU9_bQov1osM",
        "colab_type": "text"
      },
      "source": [
        "## Analyzing our results"
      ]
    },
    {
      "cell_type": "code",
      "metadata": {
        "id": "SSm8ACEc1LB-",
        "colab_type": "code",
        "colab": {}
      },
      "source": [
        "res = model.predict(x_test)\n",
        "predictions = []\n",
        "actual = []\n",
        "for i, j in zip(res, y_test):\n",
        "  predictions.append(i.argmax())\n",
        "  actual.append(j.argmax())"
      ],
      "execution_count": 0,
      "outputs": []
    },
    {
      "cell_type": "code",
      "metadata": {
        "id": "aGkz_C181t1p",
        "colab_type": "code",
        "colab": {
          "base_uri": "https://localhost:8080/",
          "height": 306
        },
        "outputId": "bbfa6895-7e48-405e-807e-8e7c7d972bd2"
      },
      "source": [
        "print(classification_report(predictions, actual))"
      ],
      "execution_count": 145,
      "outputs": [
        {
          "output_type": "stream",
          "text": [
            "              precision    recall  f1-score   support\n",
            "\n",
            "           0       0.85      0.87      0.86       972\n",
            "           1       0.99      0.98      0.98      1008\n",
            "           2       0.85      0.84      0.85      1013\n",
            "           3       0.93      0.88      0.90      1056\n",
            "           4       0.79      0.89      0.84       885\n",
            "           5       0.99      0.96      0.97      1033\n",
            "           6       0.76      0.73      0.75      1043\n",
            "           7       0.95      0.97      0.96       978\n",
            "           8       0.98      0.97      0.98      1016\n",
            "           9       0.96      0.97      0.97       996\n",
            "\n",
            "    accuracy                           0.91     10000\n",
            "   macro avg       0.91      0.91      0.91     10000\n",
            "weighted avg       0.91      0.91      0.91     10000\n",
            "\n"
          ],
          "name": "stdout"
        }
      ]
    },
    {
      "cell_type": "markdown",
      "metadata": {
        "id": "mk19LMeI4J11",
        "colab_type": "text"
      },
      "source": [
        "**As we can clearly see, the results are improved compared to our previous model in which we used ANN instead of CNN**<br>\n",
        "*The file is in the same directory named FashionMnistANN*"
      ]
    },
    {
      "cell_type": "code",
      "metadata": {
        "id": "TBCD0lxl2d2v",
        "colab_type": "code",
        "colab": {}
      },
      "source": [
        ""
      ],
      "execution_count": 0,
      "outputs": []
    }
  ]
}